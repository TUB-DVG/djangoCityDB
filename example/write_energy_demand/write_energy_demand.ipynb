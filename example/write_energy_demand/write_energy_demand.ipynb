{
 "cells": [
  {
   "cell_type": "markdown",
   "id": "c738f3fc-b281-4cb3-a80c-477186c218df",
   "metadata": {},
   "source": [
    "# First steps\n",
    "Please make sure, that you have set up your environment. Follow the instructions inside the README.md,\n",
    "Afterwards start the database by running `docker compose up` in one terminal. Install the `3dcitydb Importer/Exporter` https://github.com/3dcitydb/importer-exporter and connect to the database. After that, load the EnergyAde into the database. Lastly import a gml-file into the database using the Importer/Exporter.\n"
   ]
  },
  {
   "cell_type": "markdown",
   "id": "33faf9b9",
   "metadata": {},
   "source": [
    "To import EnergyDemand data into the database in a first step the data has to be prepared. For that, 2 data columns are read from a csv-file  together with the time-column. "
   ]
  },
  {
   "cell_type": "code",
   "execution_count": 7,
   "id": "2fb793f7",
   "metadata": {},
   "outputs": [
    {
     "ename": "FileNotFoundError",
     "evalue": "[Errno 2] No such file or directory: 'c:\\\\Users\\\\felix\\\\Programmieren\\\\django-citydb\\\\B1005.csv'",
     "output_type": "error",
     "traceback": [
      "\u001b[1;31m---------------------------------------------------------------------------\u001b[0m",
      "\u001b[1;31mFileNotFoundError\u001b[0m                         Traceback (most recent call last)",
      "Cell \u001b[1;32mIn[7], line 21\u001b[0m\n\u001b[0;32m     19\u001b[0m \u001b[38;5;28;01mif\u001b[39;00m i \u001b[38;5;241m==\u001b[39m \u001b[38;5;241m0\u001b[39m:\n\u001b[0;32m     20\u001b[0m     example_data \u001b[38;5;241m=\u001b[39m os\u001b[38;5;241m.\u001b[39mpath\u001b[38;5;241m.\u001b[39mjoin(os\u001b[38;5;241m.\u001b[39mpath\u001b[38;5;241m.\u001b[39mabspath(\u001b[38;5;124m\"\u001b[39m\u001b[38;5;124m\"\u001b[39m), \u001b[38;5;124m'\u001b[39m\u001b[38;5;124mB1005.csv\u001b[39m\u001b[38;5;124m'\u001b[39m)\n\u001b[1;32m---> 21\u001b[0m \u001b[38;5;28;01mwith\u001b[39;00m \u001b[38;5;28;43mopen\u001b[39;49m\u001b[43m(\u001b[49m\u001b[43mexample_data\u001b[49m\u001b[43m,\u001b[49m\u001b[43m \u001b[49m\u001b[38;5;124;43m'\u001b[39;49m\u001b[38;5;124;43mr\u001b[39;49m\u001b[38;5;124;43m'\u001b[39;49m\u001b[43m)\u001b[49m \u001b[38;5;28;01mas\u001b[39;00m file:\n\u001b[0;32m     22\u001b[0m     \u001b[38;5;66;03m# Create a CSV reader object\u001b[39;00m\n\u001b[0;32m     23\u001b[0m     reader \u001b[38;5;241m=\u001b[39m csv\u001b[38;5;241m.\u001b[39mreader(file)\n\u001b[0;32m     24\u001b[0m     headings \u001b[38;5;241m=\u001b[39m reader\u001b[38;5;241m.\u001b[39m\u001b[38;5;21m__next__\u001b[39m()\n",
      "File \u001b[1;32mc:\\Users\\felix\\.conda\\envs\\django_citydb\\Lib\\site-packages\\IPython\\core\\interactiveshell.py:324\u001b[0m, in \u001b[0;36m_modified_open\u001b[1;34m(file, *args, **kwargs)\u001b[0m\n\u001b[0;32m    317\u001b[0m \u001b[38;5;28;01mif\u001b[39;00m file \u001b[38;5;129;01min\u001b[39;00m {\u001b[38;5;241m0\u001b[39m, \u001b[38;5;241m1\u001b[39m, \u001b[38;5;241m2\u001b[39m}:\n\u001b[0;32m    318\u001b[0m     \u001b[38;5;28;01mraise\u001b[39;00m \u001b[38;5;167;01mValueError\u001b[39;00m(\n\u001b[0;32m    319\u001b[0m         \u001b[38;5;124mf\u001b[39m\u001b[38;5;124m\"\u001b[39m\u001b[38;5;124mIPython won\u001b[39m\u001b[38;5;124m'\u001b[39m\u001b[38;5;124mt let you open fd=\u001b[39m\u001b[38;5;132;01m{\u001b[39;00mfile\u001b[38;5;132;01m}\u001b[39;00m\u001b[38;5;124m by default \u001b[39m\u001b[38;5;124m\"\u001b[39m\n\u001b[0;32m    320\u001b[0m         \u001b[38;5;124m\"\u001b[39m\u001b[38;5;124mas it is likely to crash IPython. If you know what you are doing, \u001b[39m\u001b[38;5;124m\"\u001b[39m\n\u001b[0;32m    321\u001b[0m         \u001b[38;5;124m\"\u001b[39m\u001b[38;5;124myou can use builtins\u001b[39m\u001b[38;5;124m'\u001b[39m\u001b[38;5;124m open.\u001b[39m\u001b[38;5;124m\"\u001b[39m\n\u001b[0;32m    322\u001b[0m     )\n\u001b[1;32m--> 324\u001b[0m \u001b[38;5;28;01mreturn\u001b[39;00m \u001b[43mio_open\u001b[49m\u001b[43m(\u001b[49m\u001b[43mfile\u001b[49m\u001b[43m,\u001b[49m\u001b[43m \u001b[49m\u001b[38;5;241;43m*\u001b[39;49m\u001b[43margs\u001b[49m\u001b[43m,\u001b[49m\u001b[43m \u001b[49m\u001b[38;5;241;43m*\u001b[39;49m\u001b[38;5;241;43m*\u001b[39;49m\u001b[43mkwargs\u001b[49m\u001b[43m)\u001b[49m\n",
      "\u001b[1;31mFileNotFoundError\u001b[0m: [Errno 2] No such file or directory: 'c:\\\\Users\\\\felix\\\\Programmieren\\\\django-citydb\\\\B1005.csv'"
     ]
    }
   ],
   "source": [
    "import csv\n",
    "import os\n",
    "from random import choice\n",
    "from asgiref.sync import sync_to_async\n",
    "\n",
    "import django\n",
    "from django.core.management import call_command\n",
    "\n",
    "# from citydb.models import Building\n",
    "\n",
    "\n",
    "# open the example CSV-file and create a python dictionary:\n",
    "\n",
    "dictOfEnergyDemandData = {}\n",
    "columnDate = []\n",
    "energyADEData = []\n",
    "energyADEData2 = []\n",
    "# Works only on first run, otherwise the env is changed and path is not relative any longer\n",
    "with open('B1005.csv', 'r') as file:\n",
    "    # Create a CSV reader object\n",
    "    reader = csv.reader(file)\n",
    "    headings = reader.__next__()\n",
    "    for row in reader:\n",
    "        columnDate.append(row[headings.index(\"DATE\")])\n",
    "        energyADEData.append(row[headings.index(\"GRID_kWh\")])\n",
    "        energyADEData2.append(row[headings.index(\"E_sys_kWh\")])\n",
    "\n",
    "\n",
    "# set the django-env variable and import the settings\n",
    "os.chdir(\"../../\")\n",
    "os.environ['DJANGO_SETTINGS_MODULE'] = 'vdistrict.vdistrict.settings'\n",
    "django.setup()\n",
    "\n",
    "dictOfEnergyDemandData[\"DATE\"] = columnDate\n"
   ]
  },
  {
   "cell_type": "markdown",
   "id": "c8e98c1b",
   "metadata": {},
   "source": [
    "The data is put into a dictionary, whereby the time-information is a list of strings, where the string has the form \"Year-Month-Day Hour:Minutes:Seconds\". Each data-column is saved as a list of floats. To access a data-column a key as to be specified. The key is built from the EnergyDemand-end_use, as which it should be imported and the unit of the data separated by a underscore.\n",
    "\n",
    "Please note: Since the cells inside the python-notebook are executed in a async-manner but the custom management-commands can be only executed synchronisly the conversion `sync_to_async` has to be done. That is not needed when executing the command inside a .py-file.\n",
    "\n",
    "Please note further, that the building, for which `EnergyDemand`-data is added, needs to be loaded beforehand."
   ]
  },
  {
   "cell_type": "code",
   "execution_count": 2,
   "id": "4d68d88d",
   "metadata": {},
   "outputs": [
    {
     "name": "stdout",
     "output_type": "stream",
     "text": [
      "The time differences in the time series are not equal.\n",
      "The time differences in the time series are not equal.\n"
     ]
    },
    {
     "name": "stderr",
     "output_type": "stream",
     "text": [
      "c:\\Users\\felix\\.conda\\envs\\django_citydb\\Lib\\site-packages\\django\\db\\models\\fields\\__init__.py:1659: RuntimeWarning: DateTimeField RegularTimeSeries.timeperiodprop_beginposition received a naive datetime (2020-01-01 00:00:00) while time zone support is active.\n",
      "  warnings.warn(\n",
      "c:\\Users\\felix\\.conda\\envs\\django_citydb\\Lib\\site-packages\\django\\db\\models\\fields\\__init__.py:1659: RuntimeWarning: DateTimeField RegularTimeSeries.timeperiodproper_endposition received a naive datetime (2020-12-31 23:00:00) while time zone support is active.\n",
      "  warnings.warn(\n"
     ]
    }
   ],
   "source": [
    "\n",
    "# these choices are possible for the energydemand-enduse\n",
    "energyDemandEndUseChoices = [ \n",
    "    \"domesticHotWater\",\n",
    "    \"electricalAppliances\",\n",
    "    \"lighting\",\n",
    "    # \"otherOrCombinationElectrical\",\n",
    "    # \"otherOrCombinationHeating\",\n",
    "    # \"otherOrCombinationCooling\",\n",
    "    \"spaceCooling\",\n",
    "    # \"spaceHeating\",\n",
    "    \"ventilation\",\n",
    "    # \"ventilationHeating\",\n",
    "    # \"ventilationCooling\",\n",
    "    \"process\",\n",
    "]\n",
    "energyDemandEndUse = choice(energyDemandEndUseChoices)\n",
    "energyDemandEndUseChoices.pop(energyDemandEndUseChoices.index(energyDemandEndUse))\n",
    "energyDemandEndUse2 = choice(energyDemandEndUseChoices)\n",
    "\n",
    "dictOfEnergyDemandData[f\"{energyDemandEndUse}_kWh\"] = energyADEData\n",
    "\n",
    "dictOfEnergyDemandData[f\"{energyDemandEndUse2}_kWh\"] = energyADEData2\n",
    "# to set the building for which the EnergyDemand should be imported, specify the building-gmlid\n",
    "\n",
    "\n",
    "optionalMetaInformation = {\n",
    "    \"acquisition_method\": \"estimation\",\n",
    "    \"source\": \"VDistrict\",\n",
    "    \"interpolation_type\": \"averageInSucceedingInterval\",\n",
    "    \"quality_description\": \"Your quality description\",\n",
    "\n",
    "}\n",
    "\n",
    "await sync_to_async(call_command)('import_timeseries', dictOfEnergyDemandData, \"BLDG_0003000f0032da1b\", **optionalMetaInformation)\n",
    "\n"
   ]
  },
  {
   "cell_type": "code",
   "execution_count": 3,
   "id": "3f36c4ad",
   "metadata": {},
   "outputs": [
    {
     "name": "stdout",
     "output_type": "stream",
     "text": [
      "The time differences in the time series are not equal.\n",
      "The time differences in the time series are not equal.\n"
     ]
    }
   ],
   "source": [
    "dictOfEnergyDemandData[f\"domesticHotWater_kWh\"] = energyADEData\n",
    "await sync_to_async(call_command)('import_timeseries', dictOfEnergyDemandData, \"BLDG_0003000f0032da1b\")\n",
    "# call_command('import_timeseries', dictOfEnergyDemandData, \"BLDG_0003000b0054e8af\")\n"
   ]
  }
 ],
 "metadata": {
  "kernelspec": {
   "display_name": "Python 3 (ipykernel)",
   "language": "python",
   "name": "python3"
  },
  "language_info": {
   "codemirror_mode": {
    "name": "ipython",
    "version": 3
   },
   "file_extension": ".py",
   "mimetype": "text/x-python",
   "name": "python",
   "nbconvert_exporter": "python",
   "pygments_lexer": "ipython3",
   "version": "3.11.8"
  }
 },
 "nbformat": 4,
 "nbformat_minor": 5
}
